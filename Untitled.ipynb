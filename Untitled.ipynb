{
 "cells": [
  {
   "cell_type": "code",
   "execution_count": null,
   "metadata": {},
   "outputs": [],
   "source": [
    "def simpleArraySum(ar):\n",
    "    sum = 0\n",
    "    if len(ar) < 1000:\n",
    "        for i in ar:\n",
    "            sum += i\n",
    "        return sum\n",
    "    else:\n",
    "        print (\"No. of elemenets is large\") "
   ]
  },
  {
   "cell_type": "code",
   "execution_count": null,
   "metadata": {
    "scrolled": true
   },
   "outputs": [],
   "source": [
    "simpleArraySum([1,2,3,4,5])"
   ]
  },
  {
   "cell_type": "code",
   "execution_count": null,
   "metadata": {},
   "outputs": [],
   "source": [
    "name = \"Rinki Deo\""
   ]
  },
  {
   "cell_type": "code",
   "execution_count": null,
   "metadata": {},
   "outputs": [],
   "source": [
    "#name[5]+'i'\n",
    "print(name + name[8])"
   ]
  },
  {
   "cell_type": "code",
   "execution_count": null,
   "metadata": {},
   "outputs": [],
   "source": [
    "def gradingStudents(grades):\n",
    "    n = len(grades)\n",
    "    fin_grade = []\n",
    "    \n",
    "    if 1<= n <= 60:\n",
    "        for i in range(0,n):\n",
    "            if 0<= grades[i] <= 100:\n",
    "                nex_mul = (1+ (grades[i]//5))*5\n",
    "                if grades[i] < 38:\n",
    "                    fin_grade.append(grades[i])\n",
    "                elif grades[i] >= 38 and (nex_mul - grades[i])<3:\n",
    "                    fin_grade.append(nex_mul)\n",
    "                else:\n",
    "                    fin_grade.append(grades[i])      \n",
    "                    \n",
    "    return fin_grade\n",
    "            \n"
   ]
  },
  {
   "cell_type": "code",
   "execution_count": null,
   "metadata": {},
   "outputs": [],
   "source": [
    "gradingStudents([73,67,38,33])"
   ]
  },
  {
   "cell_type": "code",
   "execution_count": null,
   "metadata": {},
   "outputs": [],
   "source": [
    "def aVeryBigSum(ar):\n",
    "    sum = 0\n",
    "    if len(ar) < 11:\n",
    "        for i in ar:\n",
    "            if ar[i] >= 0 and ar[i] <= 10**10:\n",
    "                sum += i\n",
    "            else:  print(\"input Numbers out of range\") \n",
    "        return sum\n",
    "    else:\n",
    "        print (\"No. of elemenets is large\") "
   ]
  },
  {
   "cell_type": "code",
   "execution_count": null,
   "metadata": {},
   "outputs": [],
   "source": [
    "def compareTriplets(a=[],b=[]):\n",
    "    #a = list(n1,n2,n3)\n",
    "    #b = list(m1,m2,m3)\n",
    "    suma = 0\n",
    "    sumb = 0\n",
    "    for i in range(0,len(a)):\n",
    "        #print (i,a[i])\n",
    "        #if a[i] > 0 and a[i] <101\n",
    "        if a[i] > b[i]:\n",
    "            suma += 1\n",
    "            sumb += 0\n",
    "        elif a[i] == b[i]:\n",
    "            suma += 0\n",
    "            sumb += 0\n",
    "        else:\n",
    "            suma += 0\n",
    "            sumb += 1\n",
    "\n",
    "\n",
    "    return [suma, sumb]"
   ]
  },
  {
   "cell_type": "code",
   "execution_count": null,
   "metadata": {},
   "outputs": [],
   "source": [
    "arr = [-4,3,-9,0,4,1]"
   ]
  },
  {
   "cell_type": "code",
   "execution_count": null,
   "metadata": {},
   "outputs": [],
   "source": [
    "def plusMinus(arr):\n",
    "    n = len(arr)\n",
    "    negatives = 0\n",
    "    positives = 0\n",
    "    zeros = 0\n",
    "    \n",
    "    for i in range(0,n):\n",
    "        if 0 <= n <= 100 and -100 <= arr[i] <= 100:\n",
    "            if arr[i] == 0:\n",
    "                zeros += 1\n",
    "            elif arr[i] > 0:\n",
    "                positives += 1\n",
    "            else: \n",
    "                negatives += 1\n",
    "    positives = positives / n\n",
    "   \n",
    "    negatives = negatives/n\n",
    "    \n",
    "    zeros = zeros/n\n",
    "    \n",
    "    \n",
    "    return print('%.6f' %positives,  '%.6f' %negatives, '%.6f' %zeros, sep=\"\\n\")\n",
    "    "
   ]
  },
  {
   "cell_type": "code",
   "execution_count": null,
   "metadata": {},
   "outputs": [],
   "source": [
    "plusMinus([-4,3,-9,0,4,1])"
   ]
  },
  {
   "cell_type": "code",
   "execution_count": null,
   "metadata": {},
   "outputs": [],
   "source": [
    "def staircase(n):\n",
    "    for i in range(1,n+1):\n",
    "        print(' '*(n-i) + \"#\"*i )\n",
    "\n",
    "staircase(6)"
   ]
  },
  {
   "cell_type": "code",
   "execution_count": null,
   "metadata": {},
   "outputs": [],
   "source": [
    "def miniMaxSum(arr):\n",
    "    asc_arr = sorted(arr)\n",
    "    dsc_arr = sorted(arr,reverse=True)\n",
    "    minsum = 0\n",
    "    maxsum = 0\n",
    "    for i in range(0,len(arr)-1):\n",
    "        if 1 <= asc_arr[i] < 10**9 :\n",
    "            minsum += asc_arr[i]\n",
    "            maxsum += dsc_arr[i]\n",
    "    print (minsum,maxsum)\n",
    "    \n",
    "miniMaxSum([1,2,3,4,5]) "
   ]
  },
  {
   "cell_type": "code",
   "execution_count": null,
   "metadata": {},
   "outputs": [],
   "source": [
    "def birthdayCakeCandles(ar):\n",
    "    n = len(ar)\n",
    "    cand_ht = sorted(ar, reverse = True)\n",
    "    cand_blown = 0\n",
    "    for i in range(0, n):\n",
    "        if 1 <= n <=10**5 and 1 <= ar[i] <= 10**7 :\n",
    "            if cand_ht[0] == cand_ht[i] :\n",
    "                cand_blown += 1\n",
    "        #else:\n",
    "           # exit()\n",
    "            \n",
    "    return cand_blown      "
   ]
  },
  {
   "cell_type": "code",
   "execution_count": null,
   "metadata": {},
   "outputs": [],
   "source": [
    "def timeConversion(s):\n",
    "    \n",
    "    if 0 <= int(s[:2]) <= 12 and 0 <= int(s[3:5]) < 60 and 0 <= int(s[6:8]) < 60:\n",
    "        if s[-2:] == \"AM\" and s[:2] != \"12\":\n",
    "            s_new =  s[:-2]+\"hr\"\n",
    "        elif s[-2:] == \"AM\" and s[:2] == \"12\":\n",
    "            s_new_temp = str(\"00\")\n",
    "            s_new = \"00\" +s[2:-2]+\"hr\"\n",
    "\n",
    "        elif s[-2:] == \"PM\" and s[:2] == \"12\":\n",
    "            s_new = s[:-2]+\"hr\"\n",
    "        else:\n",
    "            s_new_temp = str((int(s[:2])+12))\n",
    "            s_new = s_new_temp + s[2:-2]+\"hr\"\n",
    "    else: \n",
    "        print(\"Error in given time range\")\n",
    "    return (s_new)\n",
    "\n",
    "    "
   ]
  },
  {
   "cell_type": "code",
   "execution_count": null,
   "metadata": {},
   "outputs": [],
   "source": [
    "timeConversion(\"01:55:45PM\")"
   ]
  },
  {
   "cell_type": "code",
   "execution_count": null,
   "metadata": {},
   "outputs": [],
   "source": [
    "def countApplesAndOranges(s, t, a, b, apples, oranges):\n",
    "#s= 7\n",
    "#t = 11\n",
    "#a = 5\n",
    "#b = 15\n",
    "#apples = [-2, 2, 1]\n",
    "#oranges = [5,-6]\n",
    "\n",
    "    m = len(apples)\n",
    "    n = len(oranges)\n",
    "    \n",
    "    if  1<= s <= 10**5 and 1<= t <= 10**5 and 1<= a<= 10**5 and 1<= b <= 10**5 and a<s<t<b: \n",
    "\n",
    "        apple_fall = [1 for i in apples if i+a>=s and i+a <= t]\n",
    "        orange_fall = [1 for i in oranges if i+b>=s and i+b <= t]\n",
    "\n",
    "    return print(sum(apple_fall),sum(orange_fall), sep=\"\\n\" )\n",
    "\n"
   ]
  },
  {
   "cell_type": "code",
   "execution_count": null,
   "metadata": {},
   "outputs": [],
   "source": [
    "\n",
    "countApplesAndOranges1(7, 11, 5, 15, [-2, 2, 1], [5,-6])"
   ]
  },
  {
   "cell_type": "code",
   "execution_count": null,
   "metadata": {},
   "outputs": [],
   "source": [
    "def kangaroo(x1, v1, x2, v2):\n",
    "    if 0 <= x1 < x2 <= 10000:\n",
    "        if v2 >= v1:\n",
    "            return ('NO')\n",
    "        \n",
    "        elif (x2 - x1 )% (v1 - v2) == 0:\n",
    "            return ('YES')\n",
    "        else:\n",
    "            return ('NO')\n",
    "          "
   ]
  },
  {
   "cell_type": "code",
   "execution_count": null,
   "metadata": {},
   "outputs": [],
   "source": [
    "kangaroo(14,4,98,2)\n",
    "#kangaroo(0,3,4,2)\n",
    "#kangaroo(0,2,5,3)\n",
    "#kangaroo(21,6,47,3)"
   ]
  },
  {
   "cell_type": "code",
   "execution_count": null,
   "metadata": {},
   "outputs": [],
   "source": [
    "import math\n",
    "import os\n",
    "import random\n",
    "import re\n",
    "import sys\n",
    "\n",
    "# Complete the solve function below.\n",
    "def solve(meal_cost, tip_percent, tax_percent):\n",
    "    tip = meal_cost*tip_percent/100\n",
    "    tax = meal_cost*tax_percent/100\n",
    "    total_cost = meal_cost+tip+tax\n",
    "    return round(total_cost)\n",
    "\n",
    "if __name__ == '__main__':\n",
    "    meal_cost = float(input())\n",
    "\n",
    "    tip_percent = int(input())\n",
    "\n",
    "    tax_percent = int(input())\n",
    "\n",
    "    solve(meal_cost, tip_percent, tax_percent)\n"
   ]
  },
  {
   "cell_type": "code",
   "execution_count": null,
   "metadata": {},
   "outputs": [],
   "source": [
    "def getTotalX(a, b):\n",
    "    n = len(a)\n",
    "    m = len(b)\n",
    "    for i in a:\n",
    "        if "
   ]
  },
  {
   "cell_type": "code",
   "execution_count": null,
   "metadata": {},
   "outputs": [],
   "source": [
    "import math\n",
    "import os\n",
    "import random\n",
    "import re\n",
    "import sys\n",
    "\n",
    "\n",
    "def my_weird_prog(N):\n",
    "    if N% 2 == 0:\n",
    "        if 6<= N <= 20:\n",
    "            return ('Weird')\n",
    "        else: \n",
    "            return ('Not Weird')\n",
    "    else: \n",
    "        return ('Weird')\n",
    "\n",
    "if __name__ == '__main__':\n",
    "   \n",
    "    N = int(input())\n",
    "    \n",
    "    \n",
    "    fin = my_weird_prog(N)\n",
    "\n",
    "    print(fin)"
   ]
  },
  {
   "cell_type": "code",
   "execution_count": null,
   "metadata": {},
   "outputs": [],
   "source": [
    "#a=[3, 4, 21, 36, 10, 28, 35, 5, 24, 42]\n",
    "def breakingRecords(scores):\n",
    "    a= scores\n",
    "    Minimum = a[0]\n",
    "    Maximum = a[0]\n",
    "    Max_ = [0]\n",
    "    Min_ = [0]\n",
    "    k = len(a)\n",
    "    for i in range(1, k):\n",
    "        if a[i] >= Minimum:\n",
    "            Min_.append(0)\n",
    "        if a[i] < Minimum:\n",
    "            Min_.append(1)\n",
    "            Minimum = a[i]\n",
    "        if a[i] <= Maximum:\n",
    "            Max_.append(0)\n",
    "        if a[i] > Maximum:\n",
    "            Max_.append(1)\n",
    "            Maximum = a[i]\n",
    "            \n",
    "    return (sum(Min_), sum(Max_))\n",
    "            "
   ]
  },
  {
   "cell_type": "code",
   "execution_count": null,
   "metadata": {},
   "outputs": [],
   "source": [
    "breakingRecords([3, 4, 21, 36, 10, 28, 35, 5, 24, 42])"
   ]
  },
  {
   "cell_type": "code",
   "execution_count": null,
   "metadata": {},
   "outputs": [],
   "source": [
    "def birthday(s,d,m):\n",
    "    n = len(s)\n",
    "    n_ways = 0\n",
    "\n",
    "    if n-m == 0:\n",
    "        if sum(s[:]) == d:\n",
    "            n_ways = 1 \n",
    "    \n",
    "    elif n-m >= 1:\n",
    "        for i in range(0,n-m+1):\n",
    "            s_temp = s[i:i+m] \n",
    "            if sum(s_temp[:]) == d:\n",
    "                print(s_temp)\n",
    "                n_ways += 1\n",
    "    return (n_ways)\n"
   ]
  },
  {
   "cell_type": "code",
   "execution_count": null,
   "metadata": {},
   "outputs": [],
   "source": [
    "def divisibleSumPairs(n, k, ar):\n",
    "    n = len(ar)\n",
    "    n_pairs = 0\n",
    "    for i in range(0,n):\n",
    "        for j in range(0,n):\n",
    "            if i< j and (ar[i]+ar[j]) % k == 0:\n",
    "                n_pairs += 1\n",
    "    return n_pairs\n",
    "    "
   ]
  },
  {
   "cell_type": "code",
   "execution_count": null,
   "metadata": {},
   "outputs": [],
   "source": [
    "def migratoryBirds(arr):\n",
    "    d = {1:0, 2:0,3:0,4:0,5:0}\n",
    "    for i in arr: \n",
    "        d[i] += 1\n",
    "        ## descending array based on value wil give its first item as most common value \n",
    "    sorted_d = sorted(d.items(), key=lambda kv: kv[1], reverse = True)\n",
    "    #mcb = sorted_d[0][0]\n",
    "    \n",
    "    #To check which bird type are available in dict\n",
    "    #b_type = []\n",
    "    #for k in d.keys():\n",
    "        #b_type.append(k)\n",
    "        \n",
    "    n= len(sorted_d)\n",
    "    mcb = sorted_d[0][0]\n",
    "    ## for checking if the value is same for oother bird type also\n",
    "    for i in range(0,n-1):\n",
    "        print ('iter',i)\n",
    "        if sorted_d[i][1] == sorted_d[0][1]:\n",
    "            if sorted_d[i][0] < mcb:\n",
    "                mcb = sorted_d[i][0]\n",
    "                print('mcb', mcb)\n",
    "    return mcb\n",
    "       \n",
    "\n",
    "\n"
   ]
  },
  {
   "cell_type": "code",
   "execution_count": null,
   "metadata": {},
   "outputs": [],
   "source": [
    "arr = [1, 2, 3, 4,5]\n",
    "arr_new = arr[::-1]\n",
    "print(\" \".join(str(i) for i in arr_new))"
   ]
  },
  {
   "cell_type": "code",
   "execution_count": null,
   "metadata": {},
   "outputs": [],
   "source": [
    "n = int(input())\n",
    "name_numbers = [input().split() for _ in range(n)]\n",
    "phone_book = {k: v for k,v in name_numbers}\n",
    "while True:\n",
    "    try:\n",
    "        name = input()\n",
    "        if name in phone_book:\n",
    "            print('%s=%s' % (name, phone_book[name]))\n",
    "        else:\n",
    "            print('Not found')\n",
    "    except:\n",
    "        break\n"
   ]
  },
  {
   "cell_type": "code",
   "execution_count": 1,
   "metadata": {},
   "outputs": [],
   "source": [
    "def dayOfProgrammer(year):\n",
    "    if year%4==0 and (year<1918 or year%400==0 or year%100!=0):\n",
    "        return \"12.09.%s\" % year\n",
    "    elif year == 1918:\n",
    "        return \"26.09.1918\"\n",
    "    return \"13.09.%s\" % year"
   ]
  },
  {
   "cell_type": "code",
   "execution_count": 11,
   "metadata": {},
   "outputs": [],
   "source": [
    "def bonAppetit(bill, k, b):\n",
    "    n = len(bill)\n",
    "    shared_total = sum(bill)-bill[k]\n",
    "    shared_pp = shared_total/2\n",
    "    if shared_pp == b:\n",
    "        sh = ('Bon Appetit')\n",
    "    else:\n",
    "        sh = int(b-shared_pp)\n",
    "    return sh"
   ]
  },
  {
   "cell_type": "code",
   "execution_count": null,
   "metadata": {},
   "outputs": [],
   "source": [
    "def sockMerchant(n, ar):\n",
    "     d=set(arr)\n",
    "\n"
   ]
  },
  {
   "cell_type": "code",
   "execution_count": null,
   "metadata": {},
   "outputs": [],
   "source": []
  },
  {
   "cell_type": "code",
   "execution_count": 52,
   "metadata": {},
   "outputs": [],
   "source": [
    "#arr= [10, 20, 20, 10, 10, 30, 50, 10, 20]\n",
    "def sockMerchant(n, ar):\n",
    "    n = len(arr)\n",
    "    color_key = list(set(arr))\n",
    "    k = len(color)\n",
    "    values_lst = [0]*k\n",
    "    key_val_pair = list(zip(color,values_lst))\n",
    "    d = dict(key_val_pair)\n",
    "    for i in arr:\n",
    "        d[i] +=1\n",
    "\n",
    "    pairs = 0\n",
    "\n",
    "    for i in color_key:\n",
    "        pairs += (d[i]//2)\n",
    "\n",
    "    \n",
    "    return (pairs)\n"
   ]
  },
  {
   "cell_type": "code",
   "execution_count": 54,
   "metadata": {},
   "outputs": [],
   "source": [
    "def pageCount(n, p):\n",
    "    # from front\n",
    "    turns_f =  p//2\n",
    "    if n% 2 == 0 and p%2 !=0:\n",
    "         turns_ev_back = (n-p)//2 +1\n",
    "        \n",
    "    else:   \n",
    "        turns_ev_back = (n-p)//2\n",
    "        \n",
    "    return min(turns_f,turns_ev_back )\n",
    "\n",
    "        \n",
    "            "
   ]
  },
  {
   "cell_type": "code",
   "execution_count": 56,
   "metadata": {},
   "outputs": [
    {
     "data": {
      "text/plain": [
       "0"
      ]
     },
     "execution_count": 56,
     "metadata": {},
     "output_type": "execute_result"
    }
   ],
   "source": [
    "pageCount(5, 4)"
   ]
  },
  {
   "cell_type": "code",
   "execution_count": 27,
   "metadata": {},
   "outputs": [
    {
     "name": "stdout",
     "output_type": "stream",
     "text": [
      "[1, 1, 1, 0, 1, 1, 0, 1, 1]\n",
      "0 1\n",
      "1 2\n",
      "2 3\n",
      "3 4\n",
      "4 5\n",
      "5 6\n",
      "6 7\n",
      "7 8\n",
      "8 9\n",
      "3\n"
     ]
    }
   ],
   "source": [
    "n=439\n",
    "binary_n = []\n",
    "while n> 0 :\n",
    "    remainder = n%2\n",
    "    n= int(n/2)\n",
    "    binary_n.append(remainder)\n",
    "\n",
    "count = 0\n",
    "count_max = 0\n",
    "\n",
    "for i in range(len(binary_n)):\n",
    "    \n",
    "    if binary_n[i] == 0:\n",
    "        count = 0\n",
    "             \n",
    "    else:\n",
    "        count += 1\n",
    "        \n",
    "        count_max = max(count, count_max)\n",
    "print(count_max)\n",
    "\n",
    "        \n",
    "         \n",
    "    "
   ]
  },
  {
   "cell_type": "code",
   "execution_count": 41,
   "metadata": {},
   "outputs": [
    {
     "name": "stdout",
     "output_type": "stream",
     "text": [
      "19\n",
      "16\n"
     ]
    }
   ],
   "source": [
    "import numpy as np\n",
    "arr = [[1, 1, 1, 0, 0, 0], [0, 1, 0, 0, 0, 0], [1, 1, 1, 0, 0, 0], [0, 0, 2, 4, 4, 0], [0, 0, 0, 2, 0, 0], [0, 0, 1, 2, 4, 0]]\n",
    "#arr = []\n",
    "#for _ in range(6):\n",
    "#    arr.append(list(map(int, input().rstrip().split())))\n",
    "\n",
    "array_new = (np.array(arr))\n",
    "n = len(arr)\n",
    "sum = []\n",
    "\n",
    "for i in range(0, n-2):\n",
    "    for j in range(0,n-2):\n",
    "        sum.append(arr[i][j] +arr[i][j+1]+arr[i][j+2] + arr[i+1][j+1]+ arr[i+2][j]+arr[i+2][j+1]+arr[i+2][j+2])\n",
    "print(max(sum)) \n",
    "print(len(sum))\n",
    "        \n",
    "        \n"
   ]
  },
  {
   "cell_type": "code",
   "execution_count": 33,
   "metadata": {},
   "outputs": [
    {
     "name": "stdout",
     "output_type": "stream",
     "text": [
      "[[1, 1, 1, 0, 0, 0], [0, 1, 0, 0, 0, 0], [1, 1, 1, 0, 0, 0], [0, 0, 2, 4, 4, 0], [0, 0, 0, 2, 0, 0], [0, 0, 1, 2, 4, 0]]\n"
     ]
    }
   ],
   "source": [
    "print(arr)\n"
   ]
  },
  {
   "cell_type": "code",
   "execution_count": 31,
   "metadata": {},
   "outputs": [
    {
     "data": {
      "text/plain": [
       "list"
      ]
     },
     "execution_count": 31,
     "metadata": {},
     "output_type": "execute_result"
    }
   ],
   "source": [
    "type(arr)"
   ]
  },
  {
   "cell_type": "code",
   "execution_count": null,
   "metadata": {},
   "outputs": [],
   "source": [
    "\n",
    "\n",
    "\n",
    "\n",
    "\n"
   ]
  }
 ],
 "metadata": {
  "kernelspec": {
   "display_name": "Python 3",
   "language": "python",
   "name": "python3"
  },
  "language_info": {
   "codemirror_mode": {
    "name": "ipython",
    "version": 3
   },
   "file_extension": ".py",
   "mimetype": "text/x-python",
   "name": "python",
   "nbconvert_exporter": "python",
   "pygments_lexer": "ipython3",
   "version": "3.6.2"
  }
 },
 "nbformat": 4,
 "nbformat_minor": 2
}
